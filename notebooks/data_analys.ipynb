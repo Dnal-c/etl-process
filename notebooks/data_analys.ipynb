{
 "cells": [
  {
   "cell_type": "code",
   "execution_count": 1,
   "id": "88e5726e",
   "metadata": {},
   "outputs": [
    {
     "name": "stdout",
     "output_type": "stream",
     "text": [
      "Requirement already satisfied: requests in /opt/anaconda3/lib/python3.11/site-packages (2.32.3)\n",
      "Requirement already satisfied: charset-normalizer<4,>=2 in /opt/anaconda3/lib/python3.11/site-packages (from requests) (2.0.4)\n",
      "Requirement already satisfied: idna<4,>=2.5 in /opt/anaconda3/lib/python3.11/site-packages (from requests) (2.10)\n",
      "Requirement already satisfied: urllib3<3,>=1.21.1 in /opt/anaconda3/lib/python3.11/site-packages (from requests) (2.0.7)\n",
      "Requirement already satisfied: certifi>=2017.4.17 in /opt/anaconda3/lib/python3.11/site-packages (from requests) (2024.2.2)\n"
     ]
    }
   ],
   "source": [
    "!pip install requests"
   ]
  },
  {
   "cell_type": "code",
   "execution_count": 2,
   "id": "a5946493",
   "metadata": {},
   "outputs": [],
   "source": [
    "import pandas as pd\n",
    "import numpy as np\n",
    "import requests"
   ]
  },
  {
   "cell_type": "markdown",
   "id": "d114adc5",
   "metadata": {},
   "source": [
    "# Начало"
   ]
  },
  {
   "cell_type": "markdown",
   "id": "48d86149",
   "metadata": {},
   "source": [
    "Первым делом рассмотрим, какие данные были получены на вход"
   ]
  },
  {
   "cell_type": "code",
   "execution_count": 3,
   "id": "578dc03b",
   "metadata": {},
   "outputs": [
    {
     "data": {
      "text/html": [
       "<div>\n",
       "<style scoped>\n",
       "    .dataframe tbody tr th:only-of-type {\n",
       "        vertical-align: middle;\n",
       "    }\n",
       "\n",
       "    .dataframe tbody tr th {\n",
       "        vertical-align: top;\n",
       "    }\n",
       "\n",
       "    .dataframe thead th {\n",
       "        text-align: right;\n",
       "    }\n",
       "</style>\n",
       "<table border=\"1\" class=\"dataframe\">\n",
       "  <thead>\n",
       "    <tr style=\"text-align: right;\">\n",
       "      <th></th>\n",
       "      <th>link</th>\n",
       "      <th>description</th>\n",
       "    </tr>\n",
       "  </thead>\n",
       "  <tbody>\n",
       "    <tr>\n",
       "      <th>0</th>\n",
       "      <td>https://cdn-st.rutubelist.ru/media/b0/e9/ef285...</td>\n",
       "      <td>#нарезкистримов , #dota2 , #cs2 , #fifa23 , #m...</td>\n",
       "    </tr>\n",
       "    <tr>\n",
       "      <th>1</th>\n",
       "      <td>https://cdn-st.rutubelist.ru/media/39/6c/b31bc...</td>\n",
       "      <td>🤫НЕ ВВОДИ ЭТУ КОМАНДУ В РОБЛОКС ! #shorts #rob...</td>\n",
       "    </tr>\n",
       "    <tr>\n",
       "      <th>2</th>\n",
       "      <td>https://cdn-st.rutubelist.ru/media/e9/e0/b47a9...</td>\n",
       "      <td>#boobs , #красивыедевушки , #ass</td>\n",
       "    </tr>\n",
       "    <tr>\n",
       "      <th>3</th>\n",
       "      <td>https://cdn-st.rutubelist.ru/media/87/43/b11df...</td>\n",
       "      <td>NaN</td>\n",
       "    </tr>\n",
       "    <tr>\n",
       "      <th>4</th>\n",
       "      <td>https://cdn-st.rutubelist.ru/media/d1/e7/642dc...</td>\n",
       "      <td>NaN</td>\n",
       "    </tr>\n",
       "  </tbody>\n",
       "</table>\n",
       "</div>"
      ],
      "text/plain": [
       "                                                link  \\\n",
       "0  https://cdn-st.rutubelist.ru/media/b0/e9/ef285...   \n",
       "1  https://cdn-st.rutubelist.ru/media/39/6c/b31bc...   \n",
       "2  https://cdn-st.rutubelist.ru/media/e9/e0/b47a9...   \n",
       "3  https://cdn-st.rutubelist.ru/media/87/43/b11df...   \n",
       "4  https://cdn-st.rutubelist.ru/media/d1/e7/642dc...   \n",
       "\n",
       "                                         description  \n",
       "0  #нарезкистримов , #dota2 , #cs2 , #fifa23 , #m...  \n",
       "1  🤫НЕ ВВОДИ ЭТУ КОМАНДУ В РОБЛОКС ! #shorts #rob...  \n",
       "2                   #boobs , #красивыедевушки , #ass  \n",
       "3                                                NaN  \n",
       "4                                                NaN  "
      ]
     },
     "execution_count": 3,
     "metadata": {},
     "output_type": "execute_result"
    }
   ],
   "source": [
    "dataset = pd.read_csv('./2024_400k.csv')\n",
    "dataset.head()"
   ]
  },
  {
   "cell_type": "code",
   "execution_count": 4,
   "id": "94bdbc2f",
   "metadata": {},
   "outputs": [
    {
     "name": "stdout",
     "output_type": "stream",
     "text": [
      "<class 'pandas.core.frame.DataFrame'>\n",
      "RangeIndex: 400000 entries, 0 to 399999\n",
      "Data columns (total 2 columns):\n",
      " #   Column       Non-Null Count   Dtype \n",
      "---  ------       --------------   ----- \n",
      " 0   link         400000 non-null  object\n",
      " 1   description  345081 non-null  object\n",
      "dtypes: object(2)\n",
      "memory usage: 6.1+ MB\n"
     ]
    }
   ],
   "source": [
    "dataset.info()"
   ]
  },
  {
   "cell_type": "code",
   "execution_count": 5,
   "id": "d9a2ce92",
   "metadata": {},
   "outputs": [
    {
     "name": "stdout",
     "output_type": "stream",
     "text": [
      "Общее количество записей 400000\n",
      "Количество записей без тегов 54919\n",
      "Процент записей без тегов 14%\n"
     ]
    }
   ],
   "source": [
    "rows_count = dataset['link'].count()\n",
    "na_rows_count = dataset[dataset['description'].isna()]['link'].count();\n",
    "\n",
    "print(\"Общее количество записей {}\".format(rows_count))\n",
    "print(\"Количество записей без тегов {}\".format(na_rows_count))\n",
    "print(\"Процент записей без тегов {:.0%}\".format(na_rows_count/rows_count))"
   ]
  },
  {
   "cell_type": "markdown",
   "id": "1157feb8",
   "metadata": {},
   "source": [
    "После первой попытки обобщенного анализа имеем:\n",
    "- Датасет состоит из 400 000 записей\n",
    "- Одна запись содержит линку на видео, и тэги, актуальные для нее\n",
    "- Имеем, что ~55 000 записей (14%) не имеют тегов, в принципе"
   ]
  },
  {
   "cell_type": "markdown",
   "id": "d78ca372",
   "metadata": {},
   "source": [
    "Попробуем понять, какой объем данных мы имеем. Это важно для того, чтобы выработать стратегию обучения. Мы знаем, что сервис организатора представляет собой платформу для просмотра коротких видео. Следовательно, можно предположить, что размер контента +- одинаковый. То есть, для примерного подсчета размера выборки будем придерживаться следующей логики:\n",
    "- С помощью get запроса по рандомно взятому link получим видео и взглянем на размер ответа в header'ах\n",
    "- Полученный размер возьмем за среднее. Не будем заниматься тем, что реально посчитаем средний размер по выборке или же полностью просканим 400к записей для того, чтобы получить ответ. Выглядит излишним и шумным. На конечный результат, судя по вводной относительно логики работы платформы, данная точность повлияет с небольшим размахом, который в реальности не имеет смысла.\n",
    "- Умножим средний размер на количество записей, зафиксируем полученный результат\n",
    "- Порассуждаем над стратегией работы с данными"
   ]
  },
  {
   "cell_type": "code",
   "execution_count": 6,
   "id": "5d5f8bf8",
   "metadata": {},
   "outputs": [
    {
     "name": "stdout",
     "output_type": "stream",
     "text": [
      "Средний размер файла 6.09 мб\n",
      "Средний размер выборки 2.32 тб\n"
     ]
    }
   ],
   "source": [
    "sizes = []\n",
    "for i in range(0, 10):\n",
    "    test_link = dataset['link'][i]\n",
    "    response = requests.get(test_link)\n",
    "    size = int(response.headers['Content-Length']) / 1024 / 1024\n",
    "    sizes.append(size)\n",
    "    \n",
    "meanSize = np.array(sizes).mean()\n",
    "\n",
    "print(f\"Средний размер файла {meanSize:.2f} мб\")\n",
    "\n",
    "meanVolume = meanSize * 400000 / 1024 / 1024\n",
    "\n",
    "\n",
    "print(f\"Средний размер выборки {meanVolume:.2f} тб\")"
   ]
  },
  {
   "cell_type": "markdown",
   "id": "76acfcde",
   "metadata": {},
   "source": [
    "Итак, имеем, что прогнозируемый размер выборки - 2.32тб. Объем достаточно внушительный для того, чтобы работать с данными дефолтным образом и локально. Ощущение, что обработку видео придется осуществлять батчами (пачками). Также необходимо учесть, что само видео непосредственно получаем GET'ом с хоста, который предоставили организаторы. И здесь нужно отметить, что:\n",
    "- можем падать по rate limiter'у, из-за того, что он наверняка есть)))\n",
    "- хост может быть перегружен, наверняка команды соперников так же будут к нему обращаться\n",
    "- возможны задержки в отдаче в пиковые моменты, надо подумать над увеличением таймаутов \n",
    "- подумать о ретраях и вообще обработке exception'ов от хоста\n",
    "\n",
    "И прежде чем перейти к обработке взглянем на то, а какое количество видео имеет идентичные хэштеги"
   ]
  },
  {
   "cell_type": "code",
   "execution_count": 7,
   "id": "57f72442",
   "metadata": {},
   "outputs": [
    {
     "name": "stdout",
     "output_type": "stream",
     "text": [
      "Количество уникальных описаний в виде хештегов к видео: 91075\n",
      "Процент уникальных описаний в виде хештегов к видео: 23%\n"
     ]
    }
   ],
   "source": [
    "unique_values = dataset['description'].unique()\n",
    "unique_values_percent = unique_values.size/ dataset['description'].size\n",
    "print('Количество уникальных описаний в виде хештегов к видео:',unique_values.size)\n",
    "print('Процент уникальных описаний в виде хештегов к видео:',  f\"{unique_values_percent:.0%}\")"
   ]
  },
  {
   "cell_type": "markdown",
   "id": "353d909f",
   "metadata": {},
   "source": [
    "Данная статистика навела и сессия ответов на вопросы навела на мысль о том, что в выборке могут быть дубли по контенту. Очевидно, что вряд ли корректным равенством является видео 1 = видео 2, если равны хэштеги, но, на всякий случай, было решено, что:\n",
    "- будем смотреть на 1 фрейм видео\n",
    "- считать хеш от него, и проверять, есть ли в кэше результаты работы моделей по видео. \n",
    "- В случае, если хеши совпали, будем пропускать обработку данного видео и обогощать его из кэша"
   ]
  },
  {
   "cell_type": "markdown",
   "id": "60c23bb8",
   "metadata": {},
   "source": [
    "Теперь перейдем к описанию стратегии по обработке"
   ]
  },
  {
   "cell_type": "markdown",
   "id": "424776cc",
   "metadata": {},
   "source": [
    "# Стратегия обработки видео"
   ]
  },
  {
   "cell_type": "markdown",
   "id": "0ec70851",
   "metadata": {},
   "source": [
    "Начнем от простого к сложному, поэтому распишу максимально абстрактно. Предпологаем, что будем действовать следующим образом:\n",
    "- Брать n видео из выборки\n",
    "- Смотрим, есть ли описание по видео в кэше, если нет, то следуем дальше по списку вниз\n",
    "- Полученные видео прогоняем через whisper, в надежде получить транскрибацию с видео\n",
    "- Сэмплируем каждое видео на m картинок\n",
    "- Строим архитектуру под Image Captioning. Предварительно будем брать архитектуры, которые обучены на Flickr или COCO 2017ого года, и файнтюнить их, в идеале брать обученные\n",
    "- Перед тем, как начать основной флоу, возьмем первый кадр с видео и глянем на его хеш\n",
    "- В случае, если данный хеш обратывался ранее - возьмем \n",
    "- Прогоняем полученные m картинок, получаем результат, переводим его и объединяем все в одну строку\n",
    "- Полученные описания (текст с whisper, текст с описания изображения) складываем в БД. Предварительно будем использовать Elastic. Также открытый вопрос\n"
   ]
  },
  {
   "cell_type": "markdown",
   "id": "30930ff5",
   "metadata": {},
   "source": [
    "Дальнейшие действия будем осуществлять на Kaggle, так как у каждого разработчика MAC OS и для использования GPU нужны дополнительные команды. Тестово начнем удаленно, посмотрим на скорость работы заданного алгоритма. Если все будет плохо и обработка будет занимать длительное время, перепишем код под локальное железо и продолжим на MAC OS."
   ]
  },
  {
   "cell_type": "markdown",
   "id": "ff63657c",
   "metadata": {},
   "source": [
    "Далее смотреть тетрадку **preprocess_description_with_examples**"
   ]
  },
  {
   "cell_type": "code",
   "execution_count": null,
   "id": "a9799adc",
   "metadata": {},
   "outputs": [],
   "source": []
  }
 ],
 "metadata": {
  "kernelspec": {
   "display_name": "Python 3 (ipykernel)",
   "language": "python",
   "name": "python3"
  },
  "language_info": {
   "codemirror_mode": {
    "name": "ipython",
    "version": 3
   },
   "file_extension": ".py",
   "mimetype": "text/x-python",
   "name": "python",
   "nbconvert_exporter": "python",
   "pygments_lexer": "ipython3",
   "version": "3.11.7"
  }
 },
 "nbformat": 4,
 "nbformat_minor": 5
}
