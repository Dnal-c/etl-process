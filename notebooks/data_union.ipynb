{
 "cells": [
  {
   "cell_type": "markdown",
   "id": "daa5d155",
   "metadata": {},
   "source": [
    "# Объединение результатов работы Image Captioning + ASR"
   ]
  },
  {
   "cell_type": "markdown",
   "id": "c0fa4515",
   "metadata": {},
   "source": [
    "В рамках препроцессинга, когда испытывали сложности по времени обработки и железу. Решили распаралелить процесс сборки данных. \n",
    "Логика следующая:\n",
    "- есть результаты работы ImageCaptioning чанками\n",
    "- есть результаты работы ASR чанками\n",
    "- построили обработку так, чтобы записи из исходного датасета обрабатывались одинаково параллельно. +- одна и та же запись попадает на предикт в две модели\n",
    "- конкатенируем чанки в 1 Датафрейм\n",
    "- присоединяем к датафрейму с ImageCaptioning результат ASR\n",
    "- сохраняем в объединенный csv\n"
   ]
  },
  {
   "cell_type": "code",
   "execution_count": 1,
   "id": "1fefb199",
   "metadata": {},
   "outputs": [],
   "source": [
    "import pandas as pd\n",
    "import os"
   ]
  },
  {
   "cell_type": "code",
   "execution_count": 2,
   "id": "4ba12a92",
   "metadata": {},
   "outputs": [],
   "source": [
    "speech_path = './/speech/'\n",
    "captioning_path = './/captioning/'\n",
    "\n",
    "output_speech_path = './/speech_1.csv'\n",
    "output_captioning_path = './/union_1.csv'"
   ]
  },
  {
   "cell_type": "code",
   "execution_count": 3,
   "id": "fbc47a89",
   "metadata": {},
   "outputs": [],
   "source": [
    "concated_speech_frame = None\n",
    "concated_captionin_frame = None"
   ]
  },
  {
   "cell_type": "code",
   "execution_count": 4,
   "id": "d37167a7",
   "metadata": {
    "scrolled": true
   },
   "outputs": [
    {
     "name": "stdout",
     "output_type": "stream",
     "text": [
      "<class 'pandas.core.frame.DataFrame'>\n",
      "Index: 1591 entries, 0 to 98\n",
      "Data columns (total 3 columns):\n",
      " #   Column  Non-Null Count  Dtype \n",
      "---  ------  --------------  ----- \n",
      " 0   link    1591 non-null   object\n",
      " 1   tags    1382 non-null   object\n",
      " 2   text    1130 non-null   object\n",
      "dtypes: object(3)\n",
      "memory usage: 49.7+ KB\n"
     ]
    },
    {
     "data": {
      "text/plain": [
       "None"
      ]
     },
     "metadata": {},
     "output_type": "display_data"
    }
   ],
   "source": [
    "for dirname, _, filenames in os.walk(speech_path):\n",
    "    i = 0\n",
    "    for filename in filenames:\n",
    "        if '.csv' in filename:\n",
    "            if i == 0:\n",
    "                df_path = str(os.path.join(dirname, filename))\n",
    "                concated_speech_frame = pd.read_csv(df_path)\n",
    "                i+=1\n",
    "            else:\n",
    "                df_path = str(os.path.join(dirname, filename))\n",
    "                temp_df = pd.read_csv(df_path)\n",
    "                concated_speech_frame = pd.concat([concated_speech_frame, temp_df])\n",
    "                \n",
    "display(concated_speech_frame.info())"
   ]
  },
  {
   "cell_type": "code",
   "execution_count": 5,
   "id": "19cee4c8",
   "metadata": {},
   "outputs": [
    {
     "name": "stdout",
     "output_type": "stream",
     "text": [
      "<class 'pandas.core.frame.DataFrame'>\n",
      "Index: 1498 entries, 0 to 497\n",
      "Data columns (total 6 columns):\n",
      " #   Column                Non-Null Count  Dtype \n",
      "---  ------                --------------  ----- \n",
      " 0   link                  1498 non-null   object\n",
      " 1   tags                  1302 non-null   object\n",
      " 2   description_ru        1498 non-null   object\n",
      " 3   short_description_ru  1498 non-null   object\n",
      " 4   description_en        1498 non-null   object\n",
      " 5   short_description_en  1498 non-null   object\n",
      "dtypes: object(6)\n",
      "memory usage: 81.9+ KB\n"
     ]
    },
    {
     "data": {
      "text/plain": [
       "None"
      ]
     },
     "metadata": {},
     "output_type": "display_data"
    }
   ],
   "source": [
    "for dirname, _, filenames in os.walk(captioning_path):\n",
    "    i = 0\n",
    "    for filename in filenames:\n",
    "        if '.csv' in filename and filename != 'test_0.csv':\n",
    "            if i == 0:\n",
    "                df_path = str(os.path.join(dirname, filename))\n",
    "                concated_captionin_frame = pd.read_csv(df_path)\n",
    "                i+=1\n",
    "            else:\n",
    "                df_path = str(os.path.join(dirname, filename))\n",
    "                temp_df = pd.read_csv(df_path)\n",
    "                concated_captionin_frame = pd.concat([concated_captionin_frame, temp_df])\n",
    "\n",
    "display(concated_captionin_frame.info())"
   ]
  },
  {
   "cell_type": "code",
   "execution_count": 6,
   "id": "33a971a0",
   "metadata": {},
   "outputs": [],
   "source": [
    "def find_speech_by_link(row):\n",
    "    link = row['link']\n",
    "    series = concated_speech_frame[concated_speech_frame['link'] == link]['text']\n",
    "    return series.values[0] if series.size > 0 else None"
   ]
  },
  {
   "cell_type": "code",
   "execution_count": 7,
   "id": "5d6bbba0",
   "metadata": {},
   "outputs": [],
   "source": [
    "concated_captionin_frame['text'] = concated_captionin_frame.apply(find_speech_by_link, axis=1)"
   ]
  },
  {
   "cell_type": "code",
   "execution_count": 8,
   "id": "5da753ac",
   "metadata": {},
   "outputs": [],
   "source": [
    "concated_captionin_frame.to_csv(output_captioning_path, index=False)\n",
    "#concated_speech_frame.to_csv(output_speech_path, index=False)"
   ]
  },
  {
   "cell_type": "code",
   "execution_count": 9,
   "id": "2e29d0b9",
   "metadata": {},
   "outputs": [
    {
     "data": {
      "text/plain": [
       "0     Вы видели, как на самом деле выглядит Чупакаб...\n",
       "1     Редактор субтитров А.Синецкая Корректор А.Его...\n",
       "2                                                  NaN\n",
       "3     Пропаганда во все времена в любой стране испо...\n",
       "4                                                  NaN\n",
       "Name: text, dtype: object"
      ]
     },
     "execution_count": 9,
     "metadata": {},
     "output_type": "execute_result"
    }
   ],
   "source": [
    "concated_captionin_frame['text'].head()"
   ]
  },
  {
   "cell_type": "code",
   "execution_count": 10,
   "id": "e0830903",
   "metadata": {},
   "outputs": [],
   "source": [
    "pd.set_option('display.expand_frame_repr', False)"
   ]
  },
  {
   "cell_type": "code",
   "execution_count": 11,
   "id": "00eaf003",
   "metadata": {},
   "outputs": [],
   "source": [
    "pd.set_option('display.max_rows', 500)\n",
    "pd.set_option('display.max_columns', 500)\n",
    "pd.set_option('display.width', 1000)"
   ]
  },
  {
   "cell_type": "code",
   "execution_count": 13,
   "id": "919e5ec3",
   "metadata": {
    "scrolled": false
   },
   "outputs": [
    {
     "data": {
      "text/html": [
       "<div>\n",
       "<style scoped>\n",
       "    .dataframe tbody tr th:only-of-type {\n",
       "        vertical-align: middle;\n",
       "    }\n",
       "\n",
       "    .dataframe tbody tr th {\n",
       "        vertical-align: top;\n",
       "    }\n",
       "\n",
       "    .dataframe thead th {\n",
       "        text-align: right;\n",
       "    }\n",
       "</style>\n",
       "<table border=\"1\" class=\"dataframe\">\n",
       "  <thead>\n",
       "    <tr style=\"text-align: right;\">\n",
       "      <th></th>\n",
       "      <th>link</th>\n",
       "      <th>tags</th>\n",
       "      <th>description_ru</th>\n",
       "      <th>short_description_ru</th>\n",
       "      <th>description_en</th>\n",
       "      <th>short_description_en</th>\n",
       "      <th>text</th>\n",
       "    </tr>\n",
       "  </thead>\n",
       "  <tbody>\n",
       "    <tr>\n",
       "      <th>0</th>\n",
       "      <td>https://cdn-st.rutubelist.ru/media/00/4b/0bbb24d04c3289605e329c0d3ee8/fhd.mp4</td>\n",
       "      <td>#путешествия #кудапоехать #туризм #море #горы #советыдляпутешествий #кэмпинг #глэмпинг #отель #вдохновение #влог</td>\n",
       "      <td>Человек в галстуке и шляпу. Человек с бородой и шляпой, держащей овцу. Человек со шляпой и собакой в ​​клетке. Мужчина в шляпе и галстук с изображением женщины. Человек со шляпой и борода, держащий нож. Человек в шляпе и галстуке держит корзину. Человек со шляпой и шляпой на голове. Человек со шляпой и солнцезащитными очками с мобильным телефоном. Человек в шляпе и галстук. Человек в шляпе и г...</td>\n",
       "      <td>Человек в шляпе и галстуке, позирующем для картинки.</td>\n",
       "      <td>A man in a tie and a hat. A man with a beard and a hat holding a sheep. A man with a hat and a dog in a cage. A man in a hat and tie with a picture of a woman. A man with a hat and a beard holding a knife. A man in a hat and tie is holding a basket. A man with a hat and a hat on his head. A man with a hat and sunglasses holding a cell phone. A man wearing a hat and a tie. A man in a hat and ti...</td>\n",
       "      <td>A man in a hat and tie posing for a picture.</td>\n",
       "      <td>Вы видели, как на самом деле выглядит Чупакабра? 1975 год. В пуэрто-риканской деревне некто нападает на животных и высасывает у них всю кровь. Изначально в этом обвиняют некий сатанистский культ, но позже ситуация повторяется по всему Пуэрто-Рико. Овец, кос и других обескровленных животных находятся с тремя точками на шее. Жуткое создание, высасывающее у них все соки, так и окрестили Чупакабр...</td>\n",
       "    </tr>\n",
       "    <tr>\n",
       "      <th>1</th>\n",
       "      <td>https://cdn-st.rutubelist.ru/media/00/4b/0e058b624c3fa0e44a101b7d94f9/fhd.mp4</td>\n",
       "      <td>#спорт #наспорте #растяжка #фитнес #мотивация</td>\n",
       "      <td>Мужчина в синей рубашке и синие брюки играет в игру в Фрисби. Мужчина в синей рубашке катается на коньках на снежном склоне. Мужчина в синей рубашке и синих штанах играет в игру в Фрисби. Человек, катаясь на скейтборде по снежному склону. Человек в синей рубашке и черных брюках играет в игру в Фрисби. Мужчина в синей рубашке и синих штанах стоит в комнате. Женщина в синей рубашке и черных брюк...</td>\n",
       "      <td>Мужчина в синей рубашке и синие брюки играет в игру в Фрисби.</td>\n",
       "      <td>A man in blue shirt and blue pants is playing a game of frisbee. A man in a blue shirt is skating on a snow covered slope. A man in a blue shirt and blue pants is playing a game of frisbee. A man riding a skateboard down a snow covered slope. A man in a blue shirt and black pants is playing a game of frisbee. A man in a blue shirt and blue pants is standing in a room. A woman in a blue shirt a...</td>\n",
       "      <td>A man in blue shirt and blue pants is playing a game of frisbee.</td>\n",
       "      <td>Редактор субтитров А.Синецкая Корректор А.Егорова</td>\n",
       "    </tr>\n",
       "    <tr>\n",
       "      <th>2</th>\n",
       "      <td>https://cdn-st.rutubelist.ru/media/00/4b/2e2a59f74a83b2909436bb9da1ac/fhd.mp4</td>\n",
       "      <td>#авто #auto #vehicle #тачки #bmw</td>\n",
       "      <td>Большая картина часов на столе. Цветочная композиция в вазе на столе. Большая синяя и белая скульптура часов. Размытое изображение цветка в воздухе. Одеяло сидит на столе в комнате.</td>\n",
       "      <td>Размытое изображение цветка в воздухе.</td>\n",
       "      <td>A large painting of a clock on a table. A flower arrangement in a vase on a table. A large blue and white sculpture of a clock. A blurry image of a flower in the air. A blanket is sitting on a table in a room.</td>\n",
       "      <td>A blurry image of a flower in the air.</td>\n",
       "      <td>NaN</td>\n",
       "    </tr>\n",
       "    <tr>\n",
       "      <th>3</th>\n",
       "      <td>https://cdn-st.rutubelist.ru/media/00/4b/99f3ec48433488d52c62c43cec5a/fhd.mp4</td>\n",
       "      <td>#егэ2023 , #огэ2023 , #наука , #егэ , #огэ , #научпоп</td>\n",
       "      <td>Картина человека в бейсбольной форме. Знак, который гласит «Не переставай пить» на машине. Фотография группы людей в комнате. Изображение человека, носящего шляпу и галстук. Картина человека в униформе с флагом. Фотография девушки с мобильным телефоном. Фотография женщины с изображением мужчины. Человек в костюме разговаривает по мобильному телефону. Фотография человека, стоящего перед знаком....</td>\n",
       "      <td>Человек держит игровой контроллер Nintendo Wii.</td>\n",
       "      <td>A picture of a man in a baseball uniform. A sign that reads \"Don't Stop Drinking\" on a car. A picture of a group of people in a room. A picture of a man wearing a hat and a tie. A picture of a man in a uniform with a flag. A picture of a girl with a cell phone. A picture of a woman with a picture of a man. A man in a suit talking on a cell phone. A picture of a man standing in front of a sign....</td>\n",
       "      <td>A man is holding a Nintendo Wii game controller.</td>\n",
       "      <td>Пропаганда во все времена в любой стране используется с большим удовольствием. Это забота о детях. Ну, чтобы вы понимали, в Корейской войне пьяньян потеряют около миллиона человек. Это много. А когда у тебя население всего 10 миллионов, это очень много. Вот представляете, сколько остается детей-сирот? Дети всегда страдают больше всего. Они никогда не знают, что происходит или почему.  Что дел...</td>\n",
       "    </tr>\n",
       "    <tr>\n",
       "      <th>4</th>\n",
       "      <td>https://cdn-st.rutubelist.ru/media/00/4b/a43d1daf4f0f9ccf0ec2a18b2fc4/fhd.mp4</td>\n",
       "      <td>#boobs , #bigass , #girls , #pussy , #еда , #готовка , #рецепт , #кукинг , #мистика , #страшилка , #horror , #бизнес , #инвестиции</td>\n",
       "      <td>Женщина, плышивающая детским жирафом в зоопарке. Девушка гласит жирафа в деревянном корпусе. Женщина, плывущая жирафом в парке. Жираф, стоящий на деревянной палубе рядом с пляжем. Женщина, кормящая детского жирафа в зоопарке.</td>\n",
       "      <td>Женщина, плышивающая детским жирафом в зоопарке.</td>\n",
       "      <td>A woman petting a baby giraffe at a zoo. A girl petting a giraffe in a wooden enclosure. A woman petting a giraffe at a park. A giraffe standing on a wooden deck next to a beach. A woman feeding a baby giraffe at a zoo.</td>\n",
       "      <td>A woman petting a baby giraffe at a zoo.</td>\n",
       "      <td>NaN</td>\n",
       "    </tr>\n",
       "  </tbody>\n",
       "</table>\n",
       "</div>"
      ],
      "text/plain": [
       "                                                                            link                                                                                                                                tags                                                                                                                                                                                                                                                                                                                                                                                                   description_ru                                           short_description_ru                                                                                                                                                                                                                                                                                                                                                                                                   description_en                                              short_description_en                                                                                                                                                                                                                                                                                                                                                                                                             text\n",
       "0  https://cdn-st.rutubelist.ru/media/00/4b/0bbb24d04c3289605e329c0d3ee8/fhd.mp4                    #путешествия #кудапоехать #туризм #море #горы #советыдляпутешествий #кэмпинг #глэмпинг #отель #вдохновение #влог  Человек в галстуке и шляпу. Человек с бородой и шляпой, держащей овцу. Человек со шляпой и собакой в ​​клетке. Мужчина в шляпе и галстук с изображением женщины. Человек со шляпой и борода, держащий нож. Человек в шляпе и галстуке держит корзину. Человек со шляпой и шляпой на голове. Человек со шляпой и солнцезащитными очками с мобильным телефоном. Человек в шляпе и галстук. Человек в шляпе и г...           Человек в шляпе и галстуке, позирующем для картинки.  A man in a tie and a hat. A man with a beard and a hat holding a sheep. A man with a hat and a dog in a cage. A man in a hat and tie with a picture of a woman. A man with a hat and a beard holding a knife. A man in a hat and tie is holding a basket. A man with a hat and a hat on his head. A man with a hat and sunglasses holding a cell phone. A man wearing a hat and a tie. A man in a hat and ti...                      A man in a hat and tie posing for a picture.   Вы видели, как на самом деле выглядит Чупакабра? 1975 год. В пуэрто-риканской деревне некто нападает на животных и высасывает у них всю кровь. Изначально в этом обвиняют некий сатанистский культ, но позже ситуация повторяется по всему Пуэрто-Рико. Овец, кос и других обескровленных животных находятся с тремя точками на шее. Жуткое создание, высасывающее у них все соки, так и окрестили Чупакабр...\n",
       "1  https://cdn-st.rutubelist.ru/media/00/4b/0e058b624c3fa0e44a101b7d94f9/fhd.mp4                                                                                       #спорт #наспорте #растяжка #фитнес #мотивация  Мужчина в синей рубашке и синие брюки играет в игру в Фрисби. Мужчина в синей рубашке катается на коньках на снежном склоне. Мужчина в синей рубашке и синих штанах играет в игру в Фрисби. Человек, катаясь на скейтборде по снежному склону. Человек в синей рубашке и черных брюках играет в игру в Фрисби. Мужчина в синей рубашке и синих штанах стоит в комнате. Женщина в синей рубашке и черных брюк...  Мужчина в синей рубашке и синие брюки играет в игру в Фрисби.  A man in blue shirt and blue pants is playing a game of frisbee. A man in a blue shirt is skating on a snow covered slope. A man in a blue shirt and blue pants is playing a game of frisbee. A man riding a skateboard down a snow covered slope. A man in a blue shirt and black pants is playing a game of frisbee. A man in a blue shirt and blue pants is standing in a room. A woman in a blue shirt a...  A man in blue shirt and blue pants is playing a game of frisbee.                                                                                                                                                                                                                                                                                                                                                                Редактор субтитров А.Синецкая Корректор А.Егорова\n",
       "2  https://cdn-st.rutubelist.ru/media/00/4b/2e2a59f74a83b2909436bb9da1ac/fhd.mp4                                                                                                    #авто #auto #vehicle #тачки #bmw                                                                                                                                                                                                                            Большая картина часов на столе. Цветочная композиция в вазе на столе. Большая синяя и белая скульптура часов. Размытое изображение цветка в воздухе. Одеяло сидит на столе в комнате.                         Размытое изображение цветка в воздухе.                                                                                                                                                                                                A large painting of a clock on a table. A flower arrangement in a vase on a table. A large blue and white sculpture of a clock. A blurry image of a flower in the air. A blanket is sitting on a table in a room.                            A blurry image of a flower in the air.                                                                                                                                                                                                                                                                                                                                                                                                              NaN\n",
       "3  https://cdn-st.rutubelist.ru/media/00/4b/99f3ec48433488d52c62c43cec5a/fhd.mp4                                                                               #егэ2023 , #огэ2023 , #наука , #егэ , #огэ , #научпоп  Картина человека в бейсбольной форме. Знак, который гласит «Не переставай пить» на машине. Фотография группы людей в комнате. Изображение человека, носящего шляпу и галстук. Картина человека в униформе с флагом. Фотография девушки с мобильным телефоном. Фотография женщины с изображением мужчины. Человек в костюме разговаривает по мобильному телефону. Фотография человека, стоящего перед знаком....                Человек держит игровой контроллер Nintendo Wii.  A picture of a man in a baseball uniform. A sign that reads \"Don't Stop Drinking\" on a car. A picture of a group of people in a room. A picture of a man wearing a hat and a tie. A picture of a man in a uniform with a flag. A picture of a girl with a cell phone. A picture of a woman with a picture of a man. A man in a suit talking on a cell phone. A picture of a man standing in front of a sign....                  A man is holding a Nintendo Wii game controller.   Пропаганда во все времена в любой стране используется с большим удовольствием. Это забота о детях. Ну, чтобы вы понимали, в Корейской войне пьяньян потеряют около миллиона человек. Это много. А когда у тебя население всего 10 миллионов, это очень много. Вот представляете, сколько остается детей-сирот? Дети всегда страдают больше всего. Они никогда не знают, что происходит или почему.  Что дел...\n",
       "4  https://cdn-st.rutubelist.ru/media/00/4b/a43d1daf4f0f9ccf0ec2a18b2fc4/fhd.mp4  #boobs , #bigass , #girls , #pussy , #еда , #готовка , #рецепт , #кукинг , #мистика , #страшилка , #horror , #бизнес , #инвестиции                                                                                                                                                                                Женщина, плышивающая детским жирафом в зоопарке. Девушка гласит жирафа в деревянном корпусе. Женщина, плывущая жирафом в парке. Жираф, стоящий на деревянной палубе рядом с пляжем. Женщина, кормящая детского жирафа в зоопарке.               Женщина, плышивающая детским жирафом в зоопарке.                                                                                                                                                                                      A woman petting a baby giraffe at a zoo. A girl petting a giraffe in a wooden enclosure. A woman petting a giraffe at a park. A giraffe standing on a wooden deck next to a beach. A woman feeding a baby giraffe at a zoo.                          A woman petting a baby giraffe at a zoo.                                                                                                                                                                                                                                                                                                                                                                                                              NaN"
      ]
     },
     "metadata": {},
     "output_type": "display_data"
    }
   ],
   "source": [
    "from pandas import option_context\n",
    "\n",
    "with option_context('display.max_colwidth', 400):\n",
    "    display(concated_captionin_frame.head())\n"
   ]
  },
  {
   "cell_type": "code",
   "execution_count": null,
   "id": "cc06279f",
   "metadata": {},
   "outputs": [],
   "source": []
  }
 ],
 "metadata": {
  "kernelspec": {
   "display_name": "Python 3 (ipykernel)",
   "language": "python",
   "name": "python3"
  },
  "language_info": {
   "codemirror_mode": {
    "name": "ipython",
    "version": 3
   },
   "file_extension": ".py",
   "mimetype": "text/x-python",
   "name": "python",
   "nbconvert_exporter": "python",
   "pygments_lexer": "ipython3",
   "version": "3.11.7"
  }
 },
 "nbformat": 4,
 "nbformat_minor": 5
}
